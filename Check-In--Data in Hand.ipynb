{
 "cells": [
  {
   "cell_type": "markdown",
   "id": "external-ordering",
   "metadata": {},
   "source": [
    "# Check-in Data\n",
    "By: Victoria Smith"
   ]
  },
  {
   "cell_type": "code",
   "execution_count": 2,
   "id": "secondary-bunch",
   "metadata": {},
   "outputs": [],
   "source": [
    "import pandas as ps"
   ]
  },
  {
   "cell_type": "markdown",
   "id": "fixed-little",
   "metadata": {},
   "source": [
    "For my final project, I will be using Google Trends to gather people's interest in two major technology companies (Microsoft and Apple.) From Google Trends I have gathered two data sets. The first data set includes searches based on location. The second data set includes searches of the two companies over the years (2010-2021.) The two csv files have been loaded in:"
   ]
  },
  {
   "cell_type": "code",
   "execution_count": 5,
   "id": "broke-spine",
   "metadata": {
    "scrolled": true
   },
   "outputs": [],
   "source": [
    "myData = ps.read_csv(r\"Apple Microsoft geoMap.csv\")\n",
    "moreData = ps.read_csv(r\"Apple Microsoft Timeline.csv\")"
   ]
  },
  {
   "cell_type": "markdown",
   "id": "bibliographic-plastic",
   "metadata": {},
   "source": [
    "The first data set has the following keys:"
   ]
  },
  {
   "cell_type": "code",
   "execution_count": 4,
   "id": "metropolitan-language",
   "metadata": {
    "scrolled": false
   },
   "outputs": [
    {
     "data": {
      "text/plain": [
       "Index(['Region', 'Apple: (6/1/10 - 4/18/21)',\n",
       "       'Microsoft Corporation: (6/1/10 - 4/18/21)'],\n",
       "      dtype='object')"
      ]
     },
     "execution_count": 4,
     "metadata": {},
     "output_type": "execute_result"
    }
   ],
   "source": [
    "myData.keys()"
   ]
  },
  {
   "cell_type": "markdown",
   "id": "stylish-number",
   "metadata": {},
   "source": [
    "The second data set has the following keys:"
   ]
  },
  {
   "cell_type": "code",
   "execution_count": 6,
   "id": "roman-commonwealth",
   "metadata": {},
   "outputs": [
    {
     "data": {
      "text/plain": [
       "Index(['Month', 'Apple', 'Microsoft Corporation'], dtype='object')"
      ]
     },
     "execution_count": 6,
     "metadata": {},
     "output_type": "execute_result"
    }
   ],
   "source": [
    "moreData.keys()"
   ]
  },
  {
   "cell_type": "markdown",
   "id": "moderate-regulation",
   "metadata": {},
   "source": [
    "I will be using these data sets to help answer my big question of Are people in the U.S. more interested in Apple or Microsoft?\n",
    "After my question has been answered I will identify where and why one company rules over the other. "
   ]
  }
 ],
 "metadata": {
  "kernelspec": {
   "display_name": "Python 3",
   "language": "python",
   "name": "python3"
  },
  "language_info": {
   "codemirror_mode": {
    "name": "ipython",
    "version": 3
   },
   "file_extension": ".py",
   "mimetype": "text/x-python",
   "name": "python",
   "nbconvert_exporter": "python",
   "pygments_lexer": "ipython3",
   "version": "3.9.1"
  }
 },
 "nbformat": 4,
 "nbformat_minor": 5
}
