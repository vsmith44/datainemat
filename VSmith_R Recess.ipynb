{
 "cells": [
  {
   "cell_type": "markdown",
   "id": "loved-speaking",
   "metadata": {},
   "source": [
    "# R Recess\n",
    "By: Victoria Smith"
   ]
  },
  {
   "cell_type": "markdown",
   "id": "hearing-maintenance",
   "metadata": {},
   "source": [
    "## Overview\n",
    "### Purpose\n",
    "The purpose of this report is to determine if the wait times from two Disney Rides: Spaceship Earth and Soarin can be used to represent one another.\n",
    "### Research Question\n",
    "Is there a correlation between the wait times of Spaceship Earth and Soarin'Around the World?\n",
    "    \n",
    "    This question is asked to gain insight on how the wait times at Disney may affect one another."
   ]
  },
  {
   "cell_type": "markdown",
   "id": "ruled-swift",
   "metadata": {},
   "source": [
    "### Environment Set Up"
   ]
  },
  {
   "cell_type": "markdown",
   "id": "overall-penny",
   "metadata": {},
   "source": [
    "Version:"
   ]
  },
  {
   "cell_type": "code",
   "execution_count": 6,
   "id": "generous-russell",
   "metadata": {},
   "outputs": [
    {
     "name": "stdout",
     "output_type": "stream",
     "text": [
      "3.4.2\n"
     ]
    }
   ],
   "source": [
    "import rpy2\n",
    "print(rpy2.__version__)"
   ]
  },
  {
   "cell_type": "markdown",
   "id": "destroyed-holocaust",
   "metadata": {},
   "source": [
    "Required Packages used:"
   ]
  },
  {
   "cell_type": "code",
   "execution_count": 7,
   "id": "progressive-mustang",
   "metadata": {},
   "outputs": [],
   "source": [
    "import pandas as ps\n",
    "from matplotlib import pyplot as plt\n",
    "import numpy as np\n",
    "import os"
   ]
  },
  {
   "cell_type": "markdown",
   "id": "featured-kuwait",
   "metadata": {},
   "source": [
    "Data File Loaded in:"
   ]
  },
  {
   "cell_type": "code",
   "execution_count": 8,
   "id": "placed-owner",
   "metadata": {},
   "outputs": [
    {
     "name": "stdout",
     "output_type": "stream",
     "text": [
      "C:\\Users\\lemon\\anaconda3\\envs\\datainemat\\Lib\\R\n"
     ]
    }
   ],
   "source": [
    "os.environ['R_HOME'] = r\"C:\\Users\\lemon\\anaconda3\\envs\\datainemat\\Lib\\R\"\n",
    "print(os.environ['R_HOME'])"
   ]
  },
  {
   "cell_type": "markdown",
   "id": "fossil-label",
   "metadata": {},
   "source": [
    "R objects put into Pyton Variables:"
   ]
  },
  {
   "cell_type": "code",
   "execution_count": 9,
   "id": "occasional-poker",
   "metadata": {},
   "outputs": [],
   "source": [
    "import rpy2.robjects as robjects"
   ]
  },
  {
   "cell_type": "code",
   "execution_count": 10,
   "id": "reported-marketing",
   "metadata": {},
   "outputs": [],
   "source": [
    "r_cor= robjects.r[\"cor\"]\n",
    "r_lm = robjects.r[\"lm\"]\n",
    "r_predict = robjects.r[\"predict\"]\n",
    "r_plot = robjects.r[\"plot\"]\n",
    "r_summary = robjects.r[\"summary\"]"
   ]
  },
  {
   "cell_type": "markdown",
   "id": "north-petersburg",
   "metadata": {},
   "source": [
    "#### Loading in Data:"
   ]
  },
  {
   "cell_type": "code",
   "execution_count": 11,
   "id": "educated-cancer",
   "metadata": {
    "scrolled": false
   },
   "outputs": [
    {
     "data": {
      "text/plain": [
       "<bound method NDFrame.head of          date        datetime  soarin_wait  spaceship_wait\n",
       "0    1/1/2020   1/1/2020 8:43         10.0             5.0\n",
       "1    1/1/2020   1/1/2020 8:50         10.0             5.0\n",
       "2    1/1/2020   1/1/2020 8:57         10.0             5.0\n",
       "3    1/1/2020   1/1/2020 9:08         25.0          -999.0\n",
       "4    1/1/2020   1/1/2020 9:15         25.0          -999.0\n",
       "..        ...             ...          ...             ...\n",
       "518  1/5/2020  1/5/2020 20:29         35.0            10.0\n",
       "519  1/5/2020  1/5/2020 20:36         35.0            10.0\n",
       "520  1/5/2020  1/5/2020 20:43         20.0            10.0\n",
       "521  1/5/2020  1/5/2020 20:50         15.0            10.0\n",
       "522  1/5/2020  1/5/2020 20:57         15.0            10.0\n",
       "\n",
       "[523 rows x 4 columns]>"
      ]
     },
     "execution_count": 11,
     "metadata": {},
     "output_type": "execute_result"
    }
   ],
   "source": [
    "waits = ps.read_csv(\"disney_wait_times.csv\")\n",
    "waits.head"
   ]
  },
  {
   "cell_type": "markdown",
   "id": "restricted-implement",
   "metadata": {},
   "source": [
    "### Graph of Soarin and Spaceship Earth Wait Times"
   ]
  },
  {
   "cell_type": "markdown",
   "id": "awful-pound",
   "metadata": {},
   "source": [
    "Histogram of wait times(in minutes):"
   ]
  },
  {
   "cell_type": "code",
   "execution_count": 12,
   "id": "sorted-individual",
   "metadata": {
    "scrolled": true
   },
   "outputs": [
    {
     "data": {
      "image/png": "[encoded data removed]",
      "text/plain": [
       "<Figure size 432x288 with 1 Axes>"
      ]
     },
     "metadata": {
      "needs_background": "light"
     },
     "output_type": "display_data"
    }
   ],
   "source": [
    "soaring_hist = plt.hist(waits['soarin_wait'])"
   ]
  },
  {
   "cell_type": "markdown",
   "id": "prompt-avenue",
   "metadata": {},
   "source": [
    "Histogram of spaceship wait times (in minutes):"
   ]
  },
  {
   "cell_type": "code",
   "execution_count": 13,
   "id": "statewide-island",
   "metadata": {
    "scrolled": false
   },
   "outputs": [
    {
     "data": {
      "image/png": "[encoded data removed]",
      "text/plain": [
       "<Figure size 432x288 with 1 Axes>"
      ]
     },
     "metadata": {
      "needs_background": "light"
     },
     "output_type": "display_data"
    }
   ],
   "source": [
    "spaceship_hist = plt.hist(waits['spaceship_wait'])"
   ]
  },
  {
   "cell_type": "markdown",
   "id": "banner-mechanism",
   "metadata": {},
   "source": [
    "Removing negative wait times from Spaceship Earth wait times:"
   ]
  },
  {
   "cell_type": "code",
   "execution_count": 14,
   "id": "straight-thunder",
   "metadata": {},
   "outputs": [],
   "source": [
    "waits = waits.replace (-999.0, np.nan)"
   ]
  },
  {
   "cell_type": "markdown",
   "id": "arranged-analysis",
   "metadata": {},
   "source": [
    "Replotting Spaceship Earth histogram (without negative wait times):\n",
    "\n",
    "Notice there are wait times ranging from 0-75 mins."
   ]
  },
  {
   "cell_type": "code",
   "execution_count": 15,
   "id": "olympic-columbia",
   "metadata": {
    "scrolled": true
   },
   "outputs": [
    {
     "data": {
      "image/png": "[encoded data removed]",
      "text/plain": [
       "<Figure size 432x288 with 1 Axes>"
      ]
     },
     "metadata": {
      "needs_background": "light"
     },
     "output_type": "display_data"
    }
   ],
   "source": [
    "spaceship_hist = plt.hist(waits['spaceship_wait'])"
   ]
  },
  {
   "cell_type": "markdown",
   "id": "iraqi-lender",
   "metadata": {},
   "source": [
    "### Bivariate Distribution Plot of Spaceship Earth and Soarin"
   ]
  },
  {
   "cell_type": "markdown",
   "id": "first-brand",
   "metadata": {},
   "source": [
    "Scatter Plot:"
   ]
  },
  {
   "cell_type": "code",
   "execution_count": 16,
   "id": "tired-error",
   "metadata": {},
   "outputs": [
    {
     "data": {
      "image/png": "[encoded data removed]",
      "text/plain": [
       "<Figure size 432x288 with 1 Axes>"
      ]
     },
     "metadata": {
      "needs_background": "light"
     },
     "output_type": "display_data"
    }
   ],
   "source": [
    "fig, ax0 = plt.subplots()\n",
    "ax0 = plt.scatter(waits['spaceship_wait'], waits['soarin_wait'],color='red')\n",
    "plt.show()"
   ]
  },
  {
   "cell_type": "markdown",
   "id": "german-exhibit",
   "metadata": {},
   "source": [
    "### Running Correlation\n",
    "Finding the best number that shows the relationship between Soarin and Spaceship Earth"
   ]
  },
  {
   "cell_type": "markdown",
   "id": "vulnerable-mainland",
   "metadata": {},
   "source": [
    "Coverting from PY to readable R language:"
   ]
  },
  {
   "cell_type": "code",
   "execution_count": 17,
   "id": "failing-expansion",
   "metadata": {},
   "outputs": [],
   "source": [
    "soarin_r = robjects.FloatVector(waits['soarin_wait'])\n",
    "spaceship_r = robjects.FloatVector(waits['spaceship_wait'])"
   ]
  },
  {
   "cell_type": "markdown",
   "id": "every-mobile",
   "metadata": {},
   "source": [
    "Calculating Pearson Correlation using r_cor:"
   ]
  },
  {
   "cell_type": "code",
   "execution_count": 18,
   "id": "boxed-explanation",
   "metadata": {
    "scrolled": true
   },
   "outputs": [],
   "source": [
    "wait_cor = r_cor (soarin_r, spaceship_r, method = \"pearson\", use = \"pairwise.complete.obs\")"
   ]
  },
  {
   "cell_type": "markdown",
   "id": "cognitive-zimbabwe",
   "metadata": {},
   "source": [
    "Pearson R Value:"
   ]
  },
  {
   "cell_type": "code",
   "execution_count": 19,
   "id": "african-characteristic",
   "metadata": {},
   "outputs": [
    {
     "data": {
      "text/plain": [
       "0.36022276532483044"
      ]
     },
     "execution_count": 19,
     "metadata": {},
     "output_type": "execute_result"
    }
   ],
   "source": [
    "wait_cor[0]"
   ]
  },
  {
   "cell_type": "markdown",
   "id": "headed-confirmation",
   "metadata": {},
   "source": [
    "R value squared:"
   ]
  },
  {
   "cell_type": "code",
   "execution_count": 20,
   "id": "killing-smell",
   "metadata": {},
   "outputs": [
    {
     "data": {
      "text/plain": [
       "0.12976044065826786"
      ]
     },
     "execution_count": 20,
     "metadata": {},
     "output_type": "execute_result"
    }
   ],
   "source": [
    "wait_cor[0] ** 2"
   ]
  },
  {
   "cell_type": "markdown",
   "id": "asian-modification",
   "metadata": {},
   "source": [
    "There is a 12.98% correlation."
   ]
  },
  {
   "cell_type": "code",
   "execution_count": 21,
   "id": "human-villa",
   "metadata": {},
   "outputs": [],
   "source": [
    "simple_form = robjects.Formula(\"soarin ~ spaceship\")\n",
    "simple_form.environment['soarin'] = soarin_r\n",
    "simple_form.environment['spaceship'] = spaceship_r"
   ]
  },
  {
   "cell_type": "code",
   "execution_count": 22,
   "id": "skilled-indianapolis",
   "metadata": {},
   "outputs": [
    {
     "data": {
      "text/plain": [
       "rpy2.robjects.vectors.ListVector"
      ]
     },
     "execution_count": 22,
     "metadata": {},
     "output_type": "execute_result"
    }
   ],
   "source": [
    "wait_lm = r_lm(formula = simple_form)\n",
    "type(wait_lm)"
   ]
  },
  {
   "cell_type": "code",
   "execution_count": 23,
   "id": "psychological-converter",
   "metadata": {
    "scrolled": true
   },
   "outputs": [
    {
     "data": {
      "text/html": [
       "\n",
       "        <span>ListVector with 13 elements.</span>\n",
       "        <table>\n",
       "        <tbody>\n",
       "        \n",
       "          <tr>\n",
       "            <th>\n",
       "            coefficients\n",
       "            </th>\n",
       "            <td>\n",
       "            \n",
       "        <span>FloatVector with 2 elements.</span>\n",
       "        <table>\n",
       "        <tbody>\n",
       "          <tr>\n",
       "          \n",
       "            <td>\n",
       "            48.696118\n",
       "            </td>\n",
       "          \n",
       "            <td>\n",
       "            0.457380\n",
       "            </td>\n",
       "          \n",
       "          </tr>\n",
       "        </tbody>\n",
       "        </table>\n",
       "        \n",
       "            </td>\n",
       "          </tr>\n",
       "        \n",
       "          <tr>\n",
       "            <th>\n",
       "            residuals\n",
       "            </th>\n",
       "            <td>\n",
       "            \n",
       "        <span>FloatVector with 498 elements.</span>\n",
       "        <table>\n",
       "        <tbody>\n",
       "          <tr>\n",
       "          \n",
       "            <td>\n",
       "            -40.983020\n",
       "            </td>\n",
       "          \n",
       "            <td>\n",
       "            -40.983020\n",
       "            </td>\n",
       "          \n",
       "            <td>\n",
       "            -40.983020\n",
       "            </td>\n",
       "          \n",
       "            <td>\n",
       "            ...\n",
       "            </td>\n",
       "          \n",
       "            <td>\n",
       "            -33.269922\n",
       "            </td>\n",
       "          \n",
       "            <td>\n",
       "            -38.269922\n",
       "            </td>\n",
       "          \n",
       "            <td>\n",
       "            -38.269922\n",
       "            </td>\n",
       "          \n",
       "          </tr>\n",
       "        </tbody>\n",
       "        </table>\n",
       "        \n",
       "            </td>\n",
       "          </tr>\n",
       "        \n",
       "          <tr>\n",
       "            <th>\n",
       "            effects\n",
       "            </th>\n",
       "            <td>\n",
       "            \n",
       "        <span>FloatVector with 498 elements.</span>\n",
       "        <table>\n",
       "        <tbody>\n",
       "          <tr>\n",
       "          \n",
       "            <td>\n",
       "            -1472.939920\n",
       "            </td>\n",
       "          \n",
       "            <td>\n",
       "            186.325375\n",
       "            </td>\n",
       "          \n",
       "            <td>\n",
       "            -36.415494\n",
       "            </td>\n",
       "          \n",
       "            <td>\n",
       "            ...\n",
       "            </td>\n",
       "          \n",
       "            <td>\n",
       "            -29.149349\n",
       "            </td>\n",
       "          \n",
       "            <td>\n",
       "            -34.149349\n",
       "            </td>\n",
       "          \n",
       "            <td>\n",
       "            -34.149349\n",
       "            </td>\n",
       "          \n",
       "          </tr>\n",
       "        </tbody>\n",
       "        </table>\n",
       "        \n",
       "            </td>\n",
       "          </tr>\n",
       "        \n",
       "          <tr>\n",
       "            <th>\n",
       "            ...\n",
       "            </th>\n",
       "            <td>\n",
       "            ...\n",
       "            </td>\n",
       "          </tr>\n",
       "        \n",
       "          <tr>\n",
       "            <th>\n",
       "            call\n",
       "            </th>\n",
       "            <td>\n",
       "            \n",
       "Call:\n",
       "(function (formula, data, subset, weights, na.action, method = \"qr\", \n",
       "    model = TRUE, x = FALSE, y = FALSE, qr = TRUE, singular.ok = TRUE, \n",
       "    contrasts = NULL, offset, ...) \n",
       "{\n",
       "    ret.x <- x\n",
       "    ret.y <- y\n",
       "    cl <- match.call()\n",
       "    mf <- match.call(expand.dots = FALSE)\n",
       "    m <- match(c(\"formula\", \"data\", \"subset\", \"weights\", \"na.action\", \n",
       "        \"offset\"), names(mf), 0L)\n",
       "    mf <- mf[c(1L, m)]\n",
       "    mf$drop.unused.levels <- TRUE\n",
       "    mf[[1L]] <- quote(stats::model.frame)\n",
       "    mf <- eval(mf, parent.frame())\n",
       "    if (method == \"model.frame\") \n",
       "        return(mf)\n",
       "    else if (method != \"qr\") \n",
       "        warning(gettextf(\"method = '%s' is not supported. Using 'qr'\", \n",
       "            method), domain = NA)\n",
       "    mt <- attr(mf, \"terms\")\n",
       "    y <- model.response(mf, \"numeric\")\n",
       "    w <- as.vector(model.weights(mf))\n",
       "    if (!is.null(w) && !is.numeric(w)) \n",
       "        stop(\"'weights' must be a numeric vector\")\n",
       "    offset <- model.offset(mf)\n",
       "    mlm <- is.matrix(y)\n",
       "    ny <- if (mlm) \n",
       "        nrow(y)\n",
       "    else length(y)\n",
       "    if (!is.null(offset)) {\n",
       "        if (!mlm) \n",
       "            offset <- as.vector(offset)\n",
       "        if (NROW(offset) != ny) \n",
       "            stop(gettextf(\"number of offsets is %d, should equal %d (number of observations)\", \n",
       "                NROW(offset), ny), domain = NA)\n",
       "    }\n",
       "    if (is.empty.model(mt)) {\n",
       "        x <- NULL\n",
       "        z <- list(coefficients = if (mlm) matrix(NA_real_, 0, \n",
       "            ncol(y)) else numeric(), residuals = y, fitted.values = 0 * \n",
       "            y, weights = w, rank = 0L, df.residual = if (!is.null(w)) sum(w != \n",
       "            0) else ny)\n",
       "        if (!is.null(offset)) {\n",
       "            z$fitted.values <- offset\n",
       "            z$residuals <- y - offset\n",
       "        }\n",
       "    }\n",
       "    else {\n",
       "        x <- model.matrix(mt, mf, contrasts)\n",
       "        z <- if (is.null(w)) \n",
       "            lm.fit(x, y, offset = offset, singular.ok = singular.ok, \n",
       "                ...)\n",
       "        else lm.wfit(x, y, w, offset = offset, singular.ok = singular.ok, \n",
       "            ...)\n",
       "    }\n",
       "    class(z) <- c(if (mlm) \"mlm\", \"lm\")\n",
       "    z$na.action <- attr(mf, \"na.action\")\n",
       "    z$offset <- offset\n",
       "    z$contrasts <- attr(x, \"contrasts\")\n",
       "    z$xlevels <- .getXlevels(mt, mf)\n",
       "    z$call <- cl\n",
       "    z$terms <- mt\n",
       "    if (model) \n",
       "        z$model <- mf\n",
       "    if (ret.x) \n",
       "        z$x <- x\n",
       "    if (ret.y) \n",
       "        z$y <- y\n",
       "    if (!qr) \n",
       "        z$qr <- NULL\n",
       "    z\n",
       "})(formula = soarin ~ spaceship)\n",
       "\n",
       "Coefficients:\n",
       "(Intercept)    spaceship  \n",
       "    48.6961       0.4574  \n",
       "\n",
       "\n",
       "            </td>\n",
       "          </tr>\n",
       "        \n",
       "          <tr>\n",
       "            <th>\n",
       "            terms\n",
       "            </th>\n",
       "            <td>\n",
       "            soarin ~ spaceship\n",
       "attr(,\"variables\")\n",
       "list(soarin, spaceship)\n",
       "attr(,\"factors\")\n",
       "          spaceship\n",
       "soarin            0\n",
       "spaceship         1\n",
       "attr(,\"term.labels\")\n",
       "[1] \"spaceship\"\n",
       "attr(,\"order\")\n",
       "[1] 1\n",
       "attr(,\"intercept\")\n",
       "[1] 1\n",
       "attr(,\"response\")\n",
       "[1] 1\n",
       "attr(,\".Environment\")\n",
       "<environment: R_GlobalEnv>\n",
       "attr(,\"predvars\")\n",
       "list(soarin, spaceship)\n",
       "attr(,\"dataClasses\")\n",
       "   soarin spaceship \n",
       "\"numeric\" \"numeric\" \n",
       "\n",
       "            </td>\n",
       "          </tr>\n",
       "        \n",
       "          <tr>\n",
       "            <th>\n",
       "            model\n",
       "            </th>\n",
       "            <td>\n",
       "            \n",
       "        <span>R/rpy2 DataFrame (498 x 2)</span>\n",
       "        <table>\n",
       "          <thead>\n",
       "            <tr>\n",
       "              \n",
       "              <th>soarin</th>\n",
       "              \n",
       "              <th>spaceship</th>\n",
       "              \n",
       "            </tr>\n",
       "          </thead>\n",
       "          <tbody>\n",
       "          \n",
       "          <tr>\n",
       "            \n",
       "            <td>\n",
       "              ...\n",
       "            </td>\n",
       "            \n",
       "            <td>\n",
       "              ...\n",
       "            </td>\n",
       "            \n",
       "          </tr>\n",
       "          \n",
       "          </tbody>\n",
       "        </table>\n",
       "    \n",
       "            </td>\n",
       "          </tr>\n",
       "        \n",
       "        </tbody>\n",
       "        </table>\n",
       "        "
      ],
      "text/plain": [
       "<rpy2.robjects.vectors.ListVector object at 0x00000283BEBE0340> [RTYPES.VECSXP]\n",
       "R classes: ('lm',)\n",
       "[FloatSexp..., FloatSexp..., FloatSexp..., IntSexpVe..., ..., ListSexpV..., LangSexpV..., LangSexpV..., ListSexpV...]\n",
       "  coefficients: <class 'rpy2.robjects.vectors.FloatVector'>\n",
       "  <rpy2.robjects.vectors.FloatVector object at 0x00000283BEC7D900> [RTYPES.REALSXP]\n",
       "R classes: ('numeric',)\n",
       "[48.696118, 0.457380]\n",
       "  residuals: <class 'rpy2.robjects.vectors.FloatVector'>\n",
       "  <rpy2.robjects.vectors.FloatVector object at 0x00000283BEC7DA00> [RTYPES.REALSXP]\n",
       "R classes: ('numeric',)\n",
       "[-40.983020, -40.983020, -40.983020, -13.696118, ..., -18.269922, -33.269922, -38.269922, -38.269922]\n",
       "  effects: <class 'rpy2.robjects.vectors.FloatVector'>\n",
       "  <rpy2.robjects.vectors.FloatVector object at 0x00000283C193C900> [RTYPES.REALSXP]\n",
       "R classes: ('numeric',)\n",
       "[-1472.939920, 186.325375, -36.415494, -8.681639, ..., -14.149349, -29.149349, -34.149349, -34.149349]\n",
       "  rank: <class 'rpy2.robjects.vectors.IntVector'>\n",
       "  <rpy2.robjects.vectors.IntVector object at 0x00000283BEBD28C0> [RTYPES.INTSXP]\n",
       "R classes: ('integer',)\n",
       "[2]\n",
       "...\n",
       "<rpy2.robjects.vectors.ListVector object at 0x00000283BEBE0340> [RTYPES.VECSXP]\n",
       "R classes: ('lm',)\n",
       "[FloatSexp..., FloatSexp..., FloatSexp..., IntSexpVe..., ..., ListSexpV..., LangSexpV..., LangSexpV..., ListSexpV...]\n",
       "  qr: <class 'rpy2.robjects.language.LangVector'>\n",
       "  Rlang( (function (formula, data, subset, weights, na.action, method = \"qr\",  )\n",
       "  df.residual: <class 'rpy2.robjects.Formula'>\n",
       "  <rpy2.robjects.Formula object at 0x00000283BEB79AC0> [RTYPES.LANGSXP]\n",
       "R classes: ('terms', 'formula')\n",
       "<rpy2.robjects.vectors.ListVector object at 0x00000283BEBE0340> [RTYPES.VECSXP]\n",
       "R classes: ('lm',)\n",
       "[FloatSexp..., FloatSexp..., FloatSexp..., IntSexpVe..., ..., ListSexpV..., LangSexpV..., LangSexpV..., ListSexpV...]"
      ]
     },
     "execution_count": 23,
     "metadata": {},
     "output_type": "execute_result"
    }
   ],
   "source": [
    "wait_lm"
   ]
  },
  {
   "cell_type": "markdown",
   "id": "musical-price",
   "metadata": {},
   "source": [
    "Intercept and Slope:"
   ]
  },
  {
   "cell_type": "code",
   "execution_count": 24,
   "id": "dynamic-monitoring",
   "metadata": {
    "scrolled": true
   },
   "outputs": [
    {
     "data": {
      "text/html": [
       "\n",
       "        <span>FloatVector with 2 elements.</span>\n",
       "        <table>\n",
       "        <tbody>\n",
       "          <tr>\n",
       "          \n",
       "            <td>\n",
       "            48.696118\n",
       "            </td>\n",
       "          \n",
       "            <td>\n",
       "            0.457380\n",
       "            </td>\n",
       "          \n",
       "          </tr>\n",
       "        </tbody>\n",
       "        </table>\n",
       "        "
      ],
      "text/plain": [
       "<rpy2.robjects.vectors.FloatVector object at 0x00000283BEBDC140> [RTYPES.REALSXP]\n",
       "R classes: ('numeric',)\n",
       "[48.696118, 0.457380]"
      ]
     },
     "execution_count": 24,
     "metadata": {},
     "output_type": "execute_result"
    }
   ],
   "source": [
    "wait_lm[0]"
   ]
  },
  {
   "cell_type": "code",
   "execution_count": 25,
   "id": "finnish-elite",
   "metadata": {
    "scrolled": true
   },
   "outputs": [
    {
     "data": {
      "text/html": [
       "\n",
       "        <span>FloatVector with 2 elements.</span>\n",
       "        <table>\n",
       "        <tbody>\n",
       "          <tr>\n",
       "          \n",
       "            <td>\n",
       "            48.696118\n",
       "            </td>\n",
       "          \n",
       "            <td>\n",
       "            0.457380\n",
       "            </td>\n",
       "          \n",
       "          </tr>\n",
       "        </tbody>\n",
       "        </table>\n",
       "        "
      ],
      "text/plain": [
       "<rpy2.robjects.vectors.FloatVector object at 0x00000283BEBE4DC0> [RTYPES.REALSXP]\n",
       "R classes: ('numeric',)\n",
       "[48.696118, 0.457380]"
      ]
     },
     "execution_count": 25,
     "metadata": {},
     "output_type": "execute_result"
    }
   ],
   "source": [
    "wait_lm.rx2(\"coefficients\")"
   ]
  },
  {
   "cell_type": "code",
   "execution_count": 26,
   "id": "violent-assessment",
   "metadata": {
    "scrolled": true
   },
   "outputs": [
    {
     "data": {
      "text/html": [
       "\n",
       "        <span>ListVector with 12 elements.</span>\n",
       "        <table>\n",
       "        <tbody>\n",
       "        \n",
       "          <tr>\n",
       "            <th>\n",
       "            call\n",
       "            </th>\n",
       "            <td>\n",
       "            \n",
       "Call:\n",
       "(function (formula, data, subset, weights, na.action, method = \"qr\", \n",
       "    model = TRUE, x = FALSE, y = FALSE, qr = TRUE, singular.ok = TRUE, \n",
       "    contrasts = NULL, offset, ...) \n",
       "{\n",
       "    ret.x <- x\n",
       "    ret.y <- y\n",
       "    cl <- match.call()\n",
       "    mf <- match.call(expand.dots = FALSE)\n",
       "    m <- match(c(\"formula\", \"data\", \"subset\", \"weights\", \"na.action\", \n",
       "        \"offset\"), names(mf), 0L)\n",
       "    mf <- mf[c(1L, m)]\n",
       "    mf$drop.unused.levels <- TRUE\n",
       "    mf[[1L]] <- quote(stats::model.frame)\n",
       "    mf <- eval(mf, parent.frame())\n",
       "    if (method == \"model.frame\") \n",
       "        return(mf)\n",
       "    else if (method != \"qr\") \n",
       "        warning(gettextf(\"method = '%s' is not supported. Using 'qr'\", \n",
       "            method), domain = NA)\n",
       "    mt <- attr(mf, \"terms\")\n",
       "    y <- model.response(mf, \"numeric\")\n",
       "    w <- as.vector(model.weights(mf))\n",
       "    if (!is.null(w) && !is.numeric(w)) \n",
       "        stop(\"'weights' must be a numeric vector\")\n",
       "    offset <- model.offset(mf)\n",
       "    mlm <- is.matrix(y)\n",
       "    ny <- if (mlm) \n",
       "        nrow(y)\n",
       "    else length(y)\n",
       "    if (!is.null(offset)) {\n",
       "        if (!mlm) \n",
       "            offset <- as.vector(offset)\n",
       "        if (NROW(offset) != ny) \n",
       "            stop(gettextf(\"number of offsets is %d, should equal %d (number of observations)\", \n",
       "                NROW(offset), ny), domain = NA)\n",
       "    }\n",
       "    if (is.empty.model(mt)) {\n",
       "        x <- NULL\n",
       "        z <- list(coefficients = if (mlm) matrix(NA_real_, 0, \n",
       "            ncol(y)) else numeric(), residuals = y, fitted.values = 0 * \n",
       "            y, weights = w, rank = 0L, df.residual = if (!is.null(w)) sum(w != \n",
       "            0) else ny)\n",
       "        if (!is.null(offset)) {\n",
       "            z$fitted.values <- offset\n",
       "            z$residuals <- y - offset\n",
       "        }\n",
       "    }\n",
       "    else {\n",
       "        x <- model.matrix(mt, mf, contrasts)\n",
       "        z <- if (is.null(w)) \n",
       "            lm.fit(x, y, offset = offset, singular.ok = singular.ok, \n",
       "                ...)\n",
       "        else lm.wfit(x, y, w, offset = offset, singular.ok = singular.ok, \n",
       "            ...)\n",
       "    }\n",
       "    class(z) <- c(if (mlm) \"mlm\", \"lm\")\n",
       "    z$na.action <- attr(mf, \"na.action\")\n",
       "    z$offset <- offset\n",
       "    z$contrasts <- attr(x, \"contrasts\")\n",
       "    z$xlevels <- .getXlevels(mt, mf)\n",
       "    z$call <- cl\n",
       "    z$terms <- mt\n",
       "    if (model) \n",
       "        z$model <- mf\n",
       "    if (ret.x) \n",
       "        z$x <- x\n",
       "    if (ret.y) \n",
       "        z$y <- y\n",
       "    if (!qr) \n",
       "        z$qr <- NULL\n",
       "    z\n",
       "})(formula = soarin ~ spaceship)\n",
       "\n",
       "Coefficients:\n",
       "(Intercept)    spaceship  \n",
       "    48.6961       0.4574  \n",
       "\n",
       "\n",
       "            </td>\n",
       "          </tr>\n",
       "        \n",
       "          <tr>\n",
       "            <th>\n",
       "            terms\n",
       "            </th>\n",
       "            <td>\n",
       "            soarin ~ spaceship\n",
       "attr(,\"variables\")\n",
       "list(soarin, spaceship)\n",
       "attr(,\"factors\")\n",
       "          spaceship\n",
       "soarin            0\n",
       "spaceship         1\n",
       "attr(,\"term.labels\")\n",
       "[1] \"spaceship\"\n",
       "attr(,\"order\")\n",
       "[1] 1\n",
       "attr(,\"intercept\")\n",
       "[1] 1\n",
       "attr(,\"response\")\n",
       "[1] 1\n",
       "attr(,\".Environment\")\n",
       "<environment: R_GlobalEnv>\n",
       "attr(,\"predvars\")\n",
       "list(soarin, spaceship)\n",
       "attr(,\"dataClasses\")\n",
       "   soarin spaceship \n",
       "\"numeric\" \"numeric\" \n",
       "\n",
       "            </td>\n",
       "          </tr>\n",
       "        \n",
       "          <tr>\n",
       "            <th>\n",
       "            residuals\n",
       "            </th>\n",
       "            <td>\n",
       "            \n",
       "        <span>FloatVector with 498 elements.</span>\n",
       "        <table>\n",
       "        <tbody>\n",
       "          <tr>\n",
       "          \n",
       "            <td>\n",
       "            -40.983020\n",
       "            </td>\n",
       "          \n",
       "            <td>\n",
       "            -40.983020\n",
       "            </td>\n",
       "          \n",
       "            <td>\n",
       "            -40.983020\n",
       "            </td>\n",
       "          \n",
       "            <td>\n",
       "            ...\n",
       "            </td>\n",
       "          \n",
       "            <td>\n",
       "            -33.269922\n",
       "            </td>\n",
       "          \n",
       "            <td>\n",
       "            -38.269922\n",
       "            </td>\n",
       "          \n",
       "            <td>\n",
       "            -38.269922\n",
       "            </td>\n",
       "          \n",
       "          </tr>\n",
       "        </tbody>\n",
       "        </table>\n",
       "        \n",
       "            </td>\n",
       "          </tr>\n",
       "        \n",
       "          <tr>\n",
       "            <th>\n",
       "            ...\n",
       "            </th>\n",
       "            <td>\n",
       "            ...\n",
       "            </td>\n",
       "          </tr>\n",
       "        \n",
       "          <tr>\n",
       "            <th>\n",
       "            fstatistic\n",
       "            </th>\n",
       "            <td>\n",
       "            \n",
       "        <span>FloatVector with 3 elements.</span>\n",
       "        <table>\n",
       "        <tbody>\n",
       "          <tr>\n",
       "          \n",
       "            <td>\n",
       "            73.958001\n",
       "            </td>\n",
       "          \n",
       "            <td>\n",
       "            1.000000\n",
       "            </td>\n",
       "          \n",
       "            <td>\n",
       "            496.000000\n",
       "            </td>\n",
       "          \n",
       "          </tr>\n",
       "        </tbody>\n",
       "        </table>\n",
       "        \n",
       "            </td>\n",
       "          </tr>\n",
       "        \n",
       "          <tr>\n",
       "            <th>\n",
       "            cov.unscaled\n",
       "            </th>\n",
       "            <td>\n",
       "            \n",
       "        <span>FloatMatrix with 4 elements.</span>\n",
       "        <table>\n",
       "        <tbody>\n",
       "          <tr>\n",
       "          \n",
       "            <td>\n",
       "            0.010637\n",
       "            </td>\n",
       "          \n",
       "            <td>\n",
       "            -0.000228\n",
       "            </td>\n",
       "          \n",
       "            <td>\n",
       "            -0.000228\n",
       "            </td>\n",
       "          \n",
       "            <td>\n",
       "            0.000006\n",
       "            </td>\n",
       "          \n",
       "          </tr>\n",
       "        </tbody>\n",
       "        </table>\n",
       "        \n",
       "            </td>\n",
       "          </tr>\n",
       "        \n",
       "          <tr>\n",
       "            <th>\n",
       "            na.action\n",
       "            </th>\n",
       "            <td>\n",
       "            \n",
       "        <span>IntVector with 25 elements.</span>\n",
       "        <table>\n",
       "        <tbody>\n",
       "          <tr>\n",
       "          \n",
       "            <td>\n",
       "            4\n",
       "            </td>\n",
       "          \n",
       "            <td>\n",
       "            5\n",
       "            </td>\n",
       "          \n",
       "            <td>\n",
       "            6\n",
       "            </td>\n",
       "          \n",
       "            <td>\n",
       "            ...\n",
       "            </td>\n",
       "          \n",
       "            <td>\n",
       "            469\n",
       "            </td>\n",
       "          \n",
       "            <td>\n",
       "            484\n",
       "            </td>\n",
       "          \n",
       "            <td>\n",
       "            489\n",
       "            </td>\n",
       "          \n",
       "          </tr>\n",
       "        </tbody>\n",
       "        </table>\n",
       "        \n",
       "            </td>\n",
       "          </tr>\n",
       "        \n",
       "        </tbody>\n",
       "        </table>\n",
       "        "
      ],
      "text/plain": [
       "<rpy2.robjects.vectors.ListVector object at 0x00000283BEC4B540> [RTYPES.VECSXP]\n",
       "R classes: ('summary.lm',)\n",
       "[LangSexpV..., LangSexpV..., FloatSexp..., FloatSexp..., ..., FloatSexp..., FloatSexp..., FloatSexp..., IntSexpVe...]\n",
       "  call: <class 'rpy2.robjects.language.LangVector'>\n",
       "  Rlang( (function (formula, data, subset, weights, na.action, method = \"qr\",  )\n",
       "  terms: <class 'rpy2.robjects.Formula'>\n",
       "  <rpy2.robjects.Formula object at 0x00000283BEC7D9C0> [RTYPES.LANGSXP]\n",
       "R classes: ('terms', 'formula')\n",
       "  residuals: <class 'rpy2.robjects.vectors.FloatVector'>\n",
       "  <rpy2.robjects.vectors.FloatVector object at 0x00000283BEC7D8C0> [RTYPES.REALSXP]\n",
       "R classes: ('numeric',)\n",
       "[-40.983020, -40.983020, -40.983020, -13.696118, ..., -18.269922, -33.269922, -38.269922, -38.269922]\n",
       "  coefficients: <class 'rpy2.robjects.vectors.FloatMatrix'>\n",
       "  <rpy2.robjects.vectors.FloatMatrix object at 0x00000283BEC84580> [RTYPES.REALSXP]\n",
       "R classes: ('matrix',)\n",
       "[48.696118, 0.457380, 2.234515, 0.053184, 21.792703, 8.599884, 0.000000, 0.000000]\n",
       "...\n",
       "  sigma: <class 'rpy2.robjects.vectors.FloatVector'>\n",
       "  <rpy2.robjects.vectors.FloatVector object at 0x00000283BEC84240> [RTYPES.REALSXP]\n",
       "R classes: ('numeric',)\n",
       "[0.128006]\n",
       "  df: <class 'rpy2.robjects.vectors.FloatVector'>\n",
       "  <rpy2.robjects.vectors.FloatVector object at 0x00000283BEBDC2C0> [RTYPES.REALSXP]\n",
       "R classes: ('numeric',)\n",
       "[73.958001, 1.000000, 496.000000]\n",
       "  r.squared: <class 'rpy2.robjects.vectors.FloatMatrix'>\n",
       "  <rpy2.robjects.vectors.FloatMatrix object at 0x00000283BEC80140> [RTYPES.REALSXP]\n",
       "R classes: ('matrix',)\n",
       "[0.010637, -0.000228, -0.000228, 0.000006]\n",
       "  adj.r.squared: <class 'rpy2.robjects.vectors.IntVector'>\n",
       "  <rpy2.robjects.vectors.IntVector object at 0x00000283BEC80580> [RTYPES.INTSXP]\n",
       "R classes: ('omit',)\n",
       "[4, 5, 6, 7, ..., 451, 469, 484, 489]"
      ]
     },
     "execution_count": 26,
     "metadata": {},
     "output_type": "execute_result"
    }
   ],
   "source": [
    "r_summary(wait_lm)"
   ]
  },
  {
   "cell_type": "markdown",
   "id": "decent-palace",
   "metadata": {},
   "source": [
    "### Analysis\n",
    "The correlation percentage between the two rides is 12.98%. There is an intercept of (0,48.69) and a slope of 0.46/1."
   ]
  },
  {
   "cell_type": "markdown",
   "id": "cutting-thickness",
   "metadata": {},
   "source": [
    "### Conclusion\n",
    "From this model it is safe to say that the ride, Spaceship Earth cannot be used to predict the wait time on the Soarin ride. With a correlation of 12.98% between the two wait times it is proven that there is not a strong correlation between them. Therefore, this is also true vice versa.\n",
    "\n",
    "This model also shows that there is a slope of 0.46. The slope represents that every time the Soarin wait time moves along the x-axis by 1 minute, there is an increase of 0.46. Just like the correlation test, the slope shows that Spaceship Earth cannot be used to predict the wait time on Soarin (and vice versa). This can be visualized by drawing the slope line on the scatter plot. It would then be clear that the points on the plot would not follow along the slope line which shows the two rides cannot be used to predict one another. If the points on the plot did follow along the slope line then it would be safe to say that the two rides CAN be used to represent one another."
   ]
  }
 ],
 "metadata": {
  "kernelspec": {
   "display_name": "Python 3",
   "language": "python",
   "name": "python3"
  },
  "language_info": {
   "codemirror_mode": {
    "name": "ipython",
    "version": 3
   },
   "file_extension": ".py",
   "mimetype": "text/x-python",
   "name": "python",
   "nbconvert_exporter": "python",
   "pygments_lexer": "ipython3",
   "version": "3.9.1"
  }
 },
 "nbformat": 4,
 "nbformat_minor": 5
}
