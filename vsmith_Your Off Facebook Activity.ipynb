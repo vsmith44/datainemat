{
 "cells": [
  {
   "cell_type": "markdown",
   "id": "colonial-adventure",
   "metadata": {},
   "source": [
    "# My Off Facebook Activity\n",
    "## By: Victoria Smith"
   ]
  },
  {
   "cell_type": "markdown",
   "id": "detailed-fabric",
   "metadata": {},
   "source": [
    "## 1. Overview\n",
    "### 1.1 Purpose\n",
    "This report analyzes data from my Facebook data.\n",
    "\n",
    "### 1.2 Research Question\n",
    "How do my interactions off of Facebook relate to my Facebook data?\n",
    "\n",
    "### 1.3 Hypothesis\n",
    "#### From my Off Facebook Activity, the apps with the most ads will be business related because of my business interests."
   ]
  },
  {
   "cell_type": "markdown",
   "id": "accurate-anthony",
   "metadata": {},
   "source": [
    "## 2. Data\n",
    "The data used in this report comes from my Facebook profile, available for download through [\"Settings & Privacy\"](https://www.facebook.com/settings) settings. File \"your_off-facebook_activity.json\" was imported into a Python 3 environment."
   ]
  },
  {
   "cell_type": "markdown",
   "id": "elect-teacher",
   "metadata": {},
   "source": [
    "Python Version:\n",
    "3.9.1"
   ]
  },
  {
   "cell_type": "markdown",
   "id": "sealed-hotel",
   "metadata": {},
   "source": [
    "The required packages used in this analysis:"
   ]
  },
  {
   "cell_type": "code",
   "execution_count": 181,
   "id": "allied-postage",
   "metadata": {},
   "outputs": [],
   "source": [
    "import json\n",
    "from datetime import datetime\n",
    "import matplotlib.pyplot as plt\n",
    "import numpy as np\n",
    "import time\n",
    "import pandas as ps\n",
    "from scipy import stats\n",
    "import random\n",
    "import seaborn as sb"
   ]
  },
  {
   "cell_type": "markdown",
   "id": "demanding-burst",
   "metadata": {},
   "source": [
    "Data file loaded in:"
   ]
  },
  {
   "cell_type": "code",
   "execution_count": 182,
   "id": "suburban-casting",
   "metadata": {},
   "outputs": [
    {
     "data": {
      "text/plain": [
       "dict_keys(['off_facebook_activity'])"
      ]
     },
     "execution_count": 182,
     "metadata": {},
     "output_type": "execute_result"
    }
   ],
   "source": [
    "with open (r'C:\\Users\\lemon\\Documents\\Data in Emerg\\facebook-victorias00\\ads_and_businesses\\your_off-facebook_activity.json') as f:\n",
    "    actv = json.load(f)\n",
    "\n",
    "actv.keys()"
   ]
  },
  {
   "cell_type": "markdown",
   "id": "straight-wallace",
   "metadata": {},
   "source": [
    "## 3. The Data Structure\n",
    "How the data looks and what parts of the data will be used."
   ]
  },
  {
   "cell_type": "markdown",
   "id": "exclusive-ozone",
   "metadata": {},
   "source": [
    "Determines 'off_facebook_activity' is a list"
   ]
  },
  {
   "cell_type": "code",
   "execution_count": 183,
   "id": "historical-assessment",
   "metadata": {},
   "outputs": [
    {
     "data": {
      "text/plain": [
       "list"
      ]
     },
     "execution_count": 183,
     "metadata": {},
     "output_type": "execute_result"
    }
   ],
   "source": [
    "type (actv['off_facebook_activity'])"
   ]
  },
  {
   "cell_type": "code",
   "execution_count": 184,
   "id": "legendary-vanilla",
   "metadata": {
    "scrolled": true
   },
   "outputs": [
    {
     "data": {
      "text/plain": [
       "{'name': 'berkeleycollege.edu',\n",
       " 'events': [{'id': 1635568120087946,\n",
       "   'type': 'PAGE_VIEW',\n",
       "   'timestamp': 1611725760},\n",
       "  {'id': 2484655801548484, 'type': 'PAGE_VIEW', 'timestamp': 1611725760}]}"
      ]
     },
     "execution_count": 184,
     "metadata": {},
     "output_type": "execute_result"
    }
   ],
   "source": [
    "actv ['off_facebook_activity'][0]"
   ]
  },
  {
   "cell_type": "code",
   "execution_count": 185,
   "id": "objective-bracelet",
   "metadata": {
    "scrolled": false
   },
   "outputs": [
    {
     "data": {
      "text/plain": [
       "dict"
      ]
     },
     "execution_count": 185,
     "metadata": {},
     "output_type": "execute_result"
    }
   ],
   "source": [
    "type (actv['off_facebook_activity'][0])"
   ]
  },
  {
   "cell_type": "markdown",
   "id": "civilian-finance",
   "metadata": {},
   "source": [
    "Each app has a name and a list of events:"
   ]
  },
  {
   "cell_type": "code",
   "execution_count": 186,
   "id": "derived-millennium",
   "metadata": {
    "scrolled": false
   },
   "outputs": [
    {
     "data": {
      "text/plain": [
       "dict_keys(['name', 'events'])"
      ]
     },
     "execution_count": 186,
     "metadata": {},
     "output_type": "execute_result"
    }
   ],
   "source": [
    "actv ['off_facebook_activity'][0].keys()"
   ]
  },
  {
   "cell_type": "markdown",
   "id": "recovered-maldives",
   "metadata": {},
   "source": [
    "Grabs the information from the 0th event's type"
   ]
  },
  {
   "cell_type": "markdown",
   "id": "similar-moses",
   "metadata": {},
   "source": [
    "## 3. Data Prep\n",
    "Creating a data frame using list comprehension."
   ]
  },
  {
   "cell_type": "code",
   "execution_count": 189,
   "id": "overall-crawford",
   "metadata": {},
   "outputs": [],
   "source": [
    "apps_requests = [x['name'] for x in actv['off_facebook_activity']]\n",
    "all_event_count = [len(x['events']) for x in actv['off_facebook_activity']]\n",
    "activation_count = [len([x for x in j['events'] if x['type'] == 'ACTIVATE_APP']) for j in actv['off_facebook_activity']]\n",
    "custom_count = [len([x for x in j['events'] if x['type'] == 'CUSTOM']) for j in actv['off_facebook_activity']]\n",
    "search_count = [len([x for x in j['events'] if x['type'] == 'SEARCH']) for j in actv['off_facebook_activity']]\n",
    "view_content_count = [len([x for x in j['events'] if x['type'] == 'VIEW_CONTENT']) for j in actv['off_facebook_activity']]\n",
    "ad_request_count = [len([x for x in j['events'] if x['type'] == 'AD_REQUEST']) for j in actv['off_facebook_activity']]\n",
    "page_view_count = [len([x for x in j['events'] if x['type'] == 'PAGE_VIEW']) for j in actv['off_facebook_activity']]"
   ]
  },
  {
   "cell_type": "code",
   "execution_count": 190,
   "id": "western-atlanta",
   "metadata": {
    "scrolled": false
   },
   "outputs": [
    {
     "data": {
      "text/html": [
       "<div>\n",
       "<style scoped>\n",
       "    .dataframe tbody tr th:only-of-type {\n",
       "        vertical-align: middle;\n",
       "    }\n",
       "\n",
       "    .dataframe tbody tr th {\n",
       "        vertical-align: top;\n",
       "    }\n",
       "\n",
       "    .dataframe thead th {\n",
       "        text-align: right;\n",
       "    }\n",
       "</style>\n",
       "<table border=\"1\" class=\"dataframe\">\n",
       "  <thead>\n",
       "    <tr style=\"text-align: right;\">\n",
       "      <th></th>\n",
       "      <th>App</th>\n",
       "      <th>Event Count</th>\n",
       "      <th>Activate App</th>\n",
       "      <th>Custom</th>\n",
       "      <th>Search</th>\n",
       "      <th>View Content</th>\n",
       "      <th>Ad Request</th>\n",
       "      <th>Page Views</th>\n",
       "    </tr>\n",
       "  </thead>\n",
       "  <tbody>\n",
       "    <tr>\n",
       "      <th>0</th>\n",
       "      <td>berkeleycollege.edu</td>\n",
       "      <td>2</td>\n",
       "      <td>0</td>\n",
       "      <td>0</td>\n",
       "      <td>0</td>\n",
       "      <td>0</td>\n",
       "      <td>0</td>\n",
       "      <td>2</td>\n",
       "    </tr>\n",
       "    <tr>\n",
       "      <th>1</th>\n",
       "      <td>merriam-webster.com</td>\n",
       "      <td>2</td>\n",
       "      <td>0</td>\n",
       "      <td>0</td>\n",
       "      <td>0</td>\n",
       "      <td>0</td>\n",
       "      <td>0</td>\n",
       "      <td>2</td>\n",
       "    </tr>\n",
       "    <tr>\n",
       "      <th>2</th>\n",
       "      <td>usps.com</td>\n",
       "      <td>34</td>\n",
       "      <td>0</td>\n",
       "      <td>0</td>\n",
       "      <td>0</td>\n",
       "      <td>0</td>\n",
       "      <td>0</td>\n",
       "      <td>34</td>\n",
       "    </tr>\n",
       "    <tr>\n",
       "      <th>3</th>\n",
       "      <td>square.online</td>\n",
       "      <td>174</td>\n",
       "      <td>0</td>\n",
       "      <td>0</td>\n",
       "      <td>0</td>\n",
       "      <td>0</td>\n",
       "      <td>0</td>\n",
       "      <td>169</td>\n",
       "    </tr>\n",
       "    <tr>\n",
       "      <th>4</th>\n",
       "      <td>uberprints.com</td>\n",
       "      <td>89</td>\n",
       "      <td>0</td>\n",
       "      <td>0</td>\n",
       "      <td>8</td>\n",
       "      <td>0</td>\n",
       "      <td>0</td>\n",
       "      <td>31</td>\n",
       "    </tr>\n",
       "  </tbody>\n",
       "</table>\n",
       "</div>"
      ],
      "text/plain": [
       "                   App  Event Count  Activate App  Custom  Search  \\\n",
       "0  berkeleycollege.edu            2             0       0       0   \n",
       "1  merriam-webster.com            2             0       0       0   \n",
       "2             usps.com           34             0       0       0   \n",
       "3        square.online          174             0       0       0   \n",
       "4       uberprints.com           89             0       0       8   \n",
       "\n",
       "   View Content  Ad Request  Page Views  \n",
       "0             0           0           2  \n",
       "1             0           0           2  \n",
       "2             0           0          34  \n",
       "3             0           0         169  \n",
       "4             0           0          31  "
      ]
     },
     "execution_count": 190,
     "metadata": {},
     "output_type": "execute_result"
    }
   ],
   "source": [
    "appbyevent = ps.DataFrame(columns = ('App', 'Event Count', 'Activate App', 'Custom', 'Search', 'View Content', 'Ad Request', 'Page Views'))\n",
    "appbyevent['App'] = apps_requests\n",
    "appbyevent['Event Count'] = all_event_count\n",
    "appbyevent['Activate App'] = activation_count\n",
    "appbyevent['Custom'] = custom_count\n",
    "appbyevent['Search'] = search_count\n",
    "appbyevent['View Content'] = view_content_count\n",
    "appbyevent['Ad Request'] = ad_request_count\n",
    "appbyevent['Page Views'] = page_view_count\n",
    "appbyevent.head()"
   ]
  },
  {
   "cell_type": "markdown",
   "id": "available-houston",
   "metadata": {},
   "source": [
    "## 4. Assessing Psychometric Properties\n",
    "Does the data reflect my business interests?"
   ]
  },
  {
   "cell_type": "markdown",
   "id": "english-nicholas",
   "metadata": {},
   "source": [
    "Identifying top 5 apps containing the most events"
   ]
  },
  {
   "cell_type": "code",
   "execution_count": 191,
   "id": "sublime-worse",
   "metadata": {
    "scrolled": true
   },
   "outputs": [
    {
     "data": {
      "text/html": [
       "<div>\n",
       "<style scoped>\n",
       "    .dataframe tbody tr th:only-of-type {\n",
       "        vertical-align: middle;\n",
       "    }\n",
       "\n",
       "    .dataframe tbody tr th {\n",
       "        vertical-align: top;\n",
       "    }\n",
       "\n",
       "    .dataframe thead th {\n",
       "        text-align: right;\n",
       "    }\n",
       "</style>\n",
       "<table border=\"1\" class=\"dataframe\">\n",
       "  <thead>\n",
       "    <tr style=\"text-align: right;\">\n",
       "      <th></th>\n",
       "      <th>App</th>\n",
       "      <th>Event Count</th>\n",
       "      <th>Activate App</th>\n",
       "      <th>Custom</th>\n",
       "      <th>Search</th>\n",
       "      <th>View Content</th>\n",
       "      <th>Ad Request</th>\n",
       "      <th>Page Views</th>\n",
       "    </tr>\n",
       "  </thead>\n",
       "  <tbody>\n",
       "    <tr>\n",
       "      <th>3</th>\n",
       "      <td>square.online</td>\n",
       "      <td>174</td>\n",
       "      <td>0</td>\n",
       "      <td>0</td>\n",
       "      <td>0</td>\n",
       "      <td>0</td>\n",
       "      <td>0</td>\n",
       "      <td>169</td>\n",
       "    </tr>\n",
       "    <tr>\n",
       "      <th>13</th>\n",
       "      <td>squareup.com</td>\n",
       "      <td>90</td>\n",
       "      <td>0</td>\n",
       "      <td>0</td>\n",
       "      <td>0</td>\n",
       "      <td>30</td>\n",
       "      <td>0</td>\n",
       "      <td>60</td>\n",
       "    </tr>\n",
       "    <tr>\n",
       "      <th>4</th>\n",
       "      <td>uberprints.com</td>\n",
       "      <td>89</td>\n",
       "      <td>0</td>\n",
       "      <td>0</td>\n",
       "      <td>8</td>\n",
       "      <td>0</td>\n",
       "      <td>0</td>\n",
       "      <td>31</td>\n",
       "    </tr>\n",
       "    <tr>\n",
       "      <th>2</th>\n",
       "      <td>usps.com</td>\n",
       "      <td>34</td>\n",
       "      <td>0</td>\n",
       "      <td>0</td>\n",
       "      <td>0</td>\n",
       "      <td>0</td>\n",
       "      <td>0</td>\n",
       "      <td>34</td>\n",
       "    </tr>\n",
       "    <tr>\n",
       "      <th>25</th>\n",
       "      <td>Candy Crush Saga</td>\n",
       "      <td>29</td>\n",
       "      <td>12</td>\n",
       "      <td>16</td>\n",
       "      <td>0</td>\n",
       "      <td>0</td>\n",
       "      <td>0</td>\n",
       "      <td>0</td>\n",
       "    </tr>\n",
       "  </tbody>\n",
       "</table>\n",
       "</div>"
      ],
      "text/plain": [
       "                 App  Event Count  Activate App  Custom  Search  View Content  \\\n",
       "3      square.online          174             0       0       0             0   \n",
       "13      squareup.com           90             0       0       0            30   \n",
       "4     uberprints.com           89             0       0       8             0   \n",
       "2           usps.com           34             0       0       0             0   \n",
       "25  Candy Crush Saga           29            12      16       0             0   \n",
       "\n",
       "    Ad Request  Page Views  \n",
       "3            0         169  \n",
       "13           0          60  \n",
       "4            0          31  \n",
       "2            0          34  \n",
       "25           0           0  "
      ]
     },
     "execution_count": 191,
     "metadata": {},
     "output_type": "execute_result"
    }
   ],
   "source": [
    "appbyevent.sort_values('Event Count', ascending = False).head()"
   ]
  },
  {
   "cell_type": "markdown",
   "id": "martial-array",
   "metadata": {},
   "source": [
    "Due to my strong business interests, it can be assumed that these top five apps are related to my own business. Since square.online has the most Event Counts this may be the site I use for my business needs. Apps that have less than 28 Event Counts may not be the apps I use for my business needs (maybe recreational purposes). "
   ]
  },
  {
   "cell_type": "markdown",
   "id": "swiss-isaac",
   "metadata": {},
   "source": [
    "## 5. Univariate Distrubution\n",
    "A pie chart of which apps have the most Event Counts using the same data from \"4.Psychometric Properties\"."
   ]
  },
  {
   "cell_type": "markdown",
   "id": "searching-slovakia",
   "metadata": {},
   "source": [
    "Identifying apps that have 20 or more events and displaying a corresponding pie plot:"
   ]
  },
  {
   "cell_type": "code",
   "execution_count": 192,
   "id": "brown-luther",
   "metadata": {},
   "outputs": [
    {
     "name": "stderr",
     "output_type": "stream",
     "text": [
      "<ipython-input-192-fad4c6ae15a4>:6: UserWarning: Boolean Series key will be reindexed to match DataFrame index.\n",
      "  countstop, countsbot = sortEvents[mostEvents], sortEvents[-mostEvents]\n"
     ]
    },
    {
     "data": {
      "image/png": "[encoded data removed]",
      "text/plain": [
       "<Figure size 432x288 with 1 Axes>"
      ]
     },
     "metadata": {},
     "output_type": "display_data"
    }
   ],
   "source": [
    "sortEvents=appbyevent.sort_values('Event Count', ascending = False)\n",
    "vals = piedat ['Event Count']\n",
    "labels = piedat ['App']\n",
    "\n",
    "mostEvents = appbyevent['Event Count'] >= 20\n",
    "countstop, countsbot = sortEvents[mostEvents], sortEvents[-mostEvents]\n",
    "other = countsbot.sum()\n",
    "\n",
    "piedat = countstop.append(ps.DataFrame(other['Event Count'],columns =['Event Count'],index = ['Event Count < 20']))\n",
    "\n",
    "fig3, ax3 = plt.subplots()\n",
    "ax3.pie (vals, labels = labels)\n",
    "ax3.axis('equal')\n",
    "plt.show()"
   ]
  },
  {
   "cell_type": "markdown",
   "id": "guided-service",
   "metadata": {},
   "source": [
    "## 5. Statistical Summary\n",
    "Using a ttest to compare data distribution between Non-Business Related and Business Related apps."
   ]
  },
  {
   "cell_type": "markdown",
   "id": "waiting-mistake",
   "metadata": {},
   "source": [
    "Displaying apps with more than 4 Event Counts:"
   ]
  },
  {
   "cell_type": "code",
   "execution_count": 193,
   "id": "overhead-fundamentals",
   "metadata": {},
   "outputs": [
    {
     "data": {
      "text/html": [
       "<div>\n",
       "<style scoped>\n",
       "    .dataframe tbody tr th:only-of-type {\n",
       "        vertical-align: middle;\n",
       "    }\n",
       "\n",
       "    .dataframe tbody tr th {\n",
       "        vertical-align: top;\n",
       "    }\n",
       "\n",
       "    .dataframe thead th {\n",
       "        text-align: right;\n",
       "    }\n",
       "</style>\n",
       "<table border=\"1\" class=\"dataframe\">\n",
       "  <thead>\n",
       "    <tr style=\"text-align: right;\">\n",
       "      <th></th>\n",
       "      <th>App</th>\n",
       "      <th>Event Count</th>\n",
       "      <th>Activate App</th>\n",
       "      <th>Custom</th>\n",
       "      <th>Ad Request</th>\n",
       "      <th>View Content</th>\n",
       "      <th>Page Views</th>\n",
       "    </tr>\n",
       "  </thead>\n",
       "  <tbody>\n",
       "    <tr>\n",
       "      <th>2</th>\n",
       "      <td>usps.com</td>\n",
       "      <td>34</td>\n",
       "      <td>0</td>\n",
       "      <td>0</td>\n",
       "      <td>0</td>\n",
       "      <td>0</td>\n",
       "      <td>34</td>\n",
       "    </tr>\n",
       "    <tr>\n",
       "      <th>3</th>\n",
       "      <td>square.online</td>\n",
       "      <td>174</td>\n",
       "      <td>0</td>\n",
       "      <td>0</td>\n",
       "      <td>0</td>\n",
       "      <td>0</td>\n",
       "      <td>169</td>\n",
       "    </tr>\n",
       "    <tr>\n",
       "      <th>4</th>\n",
       "      <td>uberprints.com</td>\n",
       "      <td>89</td>\n",
       "      <td>0</td>\n",
       "      <td>0</td>\n",
       "      <td>0</td>\n",
       "      <td>0</td>\n",
       "      <td>31</td>\n",
       "    </tr>\n",
       "    <tr>\n",
       "      <th>5</th>\n",
       "      <td>Amazon</td>\n",
       "      <td>5</td>\n",
       "      <td>0</td>\n",
       "      <td>5</td>\n",
       "      <td>0</td>\n",
       "      <td>0</td>\n",
       "      <td>0</td>\n",
       "    </tr>\n",
       "    <tr>\n",
       "      <th>6</th>\n",
       "      <td>quizlet.com</td>\n",
       "      <td>12</td>\n",
       "      <td>0</td>\n",
       "      <td>0</td>\n",
       "      <td>0</td>\n",
       "      <td>12</td>\n",
       "      <td>0</td>\n",
       "    </tr>\n",
       "    <tr>\n",
       "      <th>11</th>\n",
       "      <td>weebly.com</td>\n",
       "      <td>22</td>\n",
       "      <td>0</td>\n",
       "      <td>2</td>\n",
       "      <td>0</td>\n",
       "      <td>0</td>\n",
       "      <td>19</td>\n",
       "    </tr>\n",
       "    <tr>\n",
       "      <th>13</th>\n",
       "      <td>squareup.com</td>\n",
       "      <td>90</td>\n",
       "      <td>0</td>\n",
       "      <td>0</td>\n",
       "      <td>0</td>\n",
       "      <td>30</td>\n",
       "      <td>60</td>\n",
       "    </tr>\n",
       "    <tr>\n",
       "      <th>15</th>\n",
       "      <td>chegg.com</td>\n",
       "      <td>9</td>\n",
       "      <td>0</td>\n",
       "      <td>0</td>\n",
       "      <td>0</td>\n",
       "      <td>6</td>\n",
       "      <td>3</td>\n",
       "    </tr>\n",
       "    <tr>\n",
       "      <th>19</th>\n",
       "      <td>godisdope.com</td>\n",
       "      <td>21</td>\n",
       "      <td>0</td>\n",
       "      <td>0</td>\n",
       "      <td>0</td>\n",
       "      <td>0</td>\n",
       "      <td>21</td>\n",
       "    </tr>\n",
       "    <tr>\n",
       "      <th>22</th>\n",
       "      <td>stockx.com</td>\n",
       "      <td>7</td>\n",
       "      <td>0</td>\n",
       "      <td>0</td>\n",
       "      <td>0</td>\n",
       "      <td>0</td>\n",
       "      <td>7</td>\n",
       "    </tr>\n",
       "    <tr>\n",
       "      <th>25</th>\n",
       "      <td>Candy Crush Saga</td>\n",
       "      <td>29</td>\n",
       "      <td>12</td>\n",
       "      <td>16</td>\n",
       "      <td>0</td>\n",
       "      <td>0</td>\n",
       "      <td>0</td>\n",
       "    </tr>\n",
       "    <tr>\n",
       "      <th>29</th>\n",
       "      <td>customink.com</td>\n",
       "      <td>7</td>\n",
       "      <td>0</td>\n",
       "      <td>0</td>\n",
       "      <td>0</td>\n",
       "      <td>2</td>\n",
       "      <td>3</td>\n",
       "    </tr>\n",
       "    <tr>\n",
       "      <th>37</th>\n",
       "      <td>urbanairparks.com</td>\n",
       "      <td>6</td>\n",
       "      <td>0</td>\n",
       "      <td>4</td>\n",
       "      <td>0</td>\n",
       "      <td>0</td>\n",
       "      <td>2</td>\n",
       "    </tr>\n",
       "    <tr>\n",
       "      <th>48</th>\n",
       "      <td>fool.com</td>\n",
       "      <td>8</td>\n",
       "      <td>0</td>\n",
       "      <td>8</td>\n",
       "      <td>0</td>\n",
       "      <td>0</td>\n",
       "      <td>0</td>\n",
       "    </tr>\n",
       "    <tr>\n",
       "      <th>78</th>\n",
       "      <td>kent.edu</td>\n",
       "      <td>10</td>\n",
       "      <td>0</td>\n",
       "      <td>0</td>\n",
       "      <td>0</td>\n",
       "      <td>0</td>\n",
       "      <td>10</td>\n",
       "    </tr>\n",
       "  </tbody>\n",
       "</table>\n",
       "</div>"
      ],
      "text/plain": [
       "                  App  Event Count  Activate App  Custom  Ad Request  \\\n",
       "2            usps.com           34             0       0           0   \n",
       "3       square.online          174             0       0           0   \n",
       "4      uberprints.com           89             0       0           0   \n",
       "5              Amazon            5             0       5           0   \n",
       "6         quizlet.com           12             0       0           0   \n",
       "11         weebly.com           22             0       2           0   \n",
       "13       squareup.com           90             0       0           0   \n",
       "15          chegg.com            9             0       0           0   \n",
       "19      godisdope.com           21             0       0           0   \n",
       "22         stockx.com            7             0       0           0   \n",
       "25   Candy Crush Saga           29            12      16           0   \n",
       "29      customink.com            7             0       0           0   \n",
       "37  urbanairparks.com            6             0       4           0   \n",
       "48           fool.com            8             0       8           0   \n",
       "78           kent.edu           10             0       0           0   \n",
       "\n",
       "    View Content  Page Views  \n",
       "2              0          34  \n",
       "3              0         169  \n",
       "4              0          31  \n",
       "5              0           0  \n",
       "6             12           0  \n",
       "11             0          19  \n",
       "13            30          60  \n",
       "15             6           3  \n",
       "19             0          21  \n",
       "22             0           7  \n",
       "25             0           0  \n",
       "29             2           3  \n",
       "37             0           2  \n",
       "48             0           0  \n",
       "78             0          10  "
      ]
     },
     "execution_count": 193,
     "metadata": {},
     "output_type": "execute_result"
    }
   ],
   "source": [
    "appbyevent.sort_values('Event Count', ascending = False)\n",
    "subApps = appbyevent[['App', 'Event Count', 'Activate App', 'Custom', 'Ad Request', 'View Content', 'Page Views']].loc[appbyevent['Event Count'] >= 5]\n",
    "subApps"
   ]
  },
  {
   "cell_type": "markdown",
   "id": "coral-message",
   "metadata": {},
   "source": [
    "Creating a list out of this data:"
   ]
  },
  {
   "cell_type": "code",
   "execution_count": 194,
   "id": "confirmed-company",
   "metadata": {},
   "outputs": [
    {
     "data": {
      "text/plain": [
       "array([[  0,   0,   0,   0,  34],\n",
       "       [  0,   0,   0,   0, 169],\n",
       "       [  0,   0,   0,   0,  31],\n",
       "       [  0,   5,   0,   0,   0],\n",
       "       [  0,   0,   0,  12,   0],\n",
       "       [  0,   2,   0,   0,  19],\n",
       "       [  0,   0,   0,  30,  60],\n",
       "       [  0,   0,   0,   6,   3],\n",
       "       [  0,   0,   0,   0,  21],\n",
       "       [  0,   0,   0,   0,   7],\n",
       "       [ 12,  16,   0,   0,   0],\n",
       "       [  0,   0,   0,   2,   3],\n",
       "       [  0,   4,   0,   0,   2],\n",
       "       [  0,   8,   0,   0,   0],\n",
       "       [  0,   0,   0,   0,  10]], dtype=int64)"
      ]
     },
     "execution_count": 194,
     "metadata": {},
     "output_type": "execute_result"
    }
   ],
   "source": [
    "subObv = np.array(subApps.drop(columns = ['App', 'Event Count']))\n",
    "subObv"
   ]
  },
  {
   "cell_type": "markdown",
   "id": "collectible-longitude",
   "metadata": {},
   "source": [
    "Clarifying which apps are business related and which apps are not business related:"
   ]
  },
  {
   "cell_type": "code",
   "execution_count": 195,
   "id": "chicken-manor",
   "metadata": {},
   "outputs": [
    {
     "data": {
      "text/html": [
       "<div>\n",
       "<style scoped>\n",
       "    .dataframe tbody tr th:only-of-type {\n",
       "        vertical-align: middle;\n",
       "    }\n",
       "\n",
       "    .dataframe tbody tr th {\n",
       "        vertical-align: top;\n",
       "    }\n",
       "\n",
       "    .dataframe thead th {\n",
       "        text-align: right;\n",
       "    }\n",
       "</style>\n",
       "<table border=\"1\" class=\"dataframe\">\n",
       "  <thead>\n",
       "    <tr style=\"text-align: right;\">\n",
       "      <th></th>\n",
       "      <th>App</th>\n",
       "      <th>Event Count</th>\n",
       "      <th>Activate App</th>\n",
       "      <th>Custom</th>\n",
       "      <th>Ad Request</th>\n",
       "      <th>View Content</th>\n",
       "      <th>Page Views</th>\n",
       "      <th>Business Related</th>\n",
       "    </tr>\n",
       "  </thead>\n",
       "  <tbody>\n",
       "    <tr>\n",
       "      <th>2</th>\n",
       "      <td>usps.com</td>\n",
       "      <td>34</td>\n",
       "      <td>0</td>\n",
       "      <td>0</td>\n",
       "      <td>0</td>\n",
       "      <td>0</td>\n",
       "      <td>34</td>\n",
       "      <td>business</td>\n",
       "    </tr>\n",
       "    <tr>\n",
       "      <th>3</th>\n",
       "      <td>square.online</td>\n",
       "      <td>174</td>\n",
       "      <td>0</td>\n",
       "      <td>0</td>\n",
       "      <td>0</td>\n",
       "      <td>0</td>\n",
       "      <td>169</td>\n",
       "      <td>business</td>\n",
       "    </tr>\n",
       "    <tr>\n",
       "      <th>4</th>\n",
       "      <td>uberprints.com</td>\n",
       "      <td>89</td>\n",
       "      <td>0</td>\n",
       "      <td>0</td>\n",
       "      <td>0</td>\n",
       "      <td>0</td>\n",
       "      <td>31</td>\n",
       "      <td>business</td>\n",
       "    </tr>\n",
       "    <tr>\n",
       "      <th>5</th>\n",
       "      <td>Amazon</td>\n",
       "      <td>5</td>\n",
       "      <td>0</td>\n",
       "      <td>5</td>\n",
       "      <td>0</td>\n",
       "      <td>0</td>\n",
       "      <td>0</td>\n",
       "      <td>non-business</td>\n",
       "    </tr>\n",
       "    <tr>\n",
       "      <th>6</th>\n",
       "      <td>quizlet.com</td>\n",
       "      <td>12</td>\n",
       "      <td>0</td>\n",
       "      <td>0</td>\n",
       "      <td>0</td>\n",
       "      <td>12</td>\n",
       "      <td>0</td>\n",
       "      <td>non-business</td>\n",
       "    </tr>\n",
       "    <tr>\n",
       "      <th>11</th>\n",
       "      <td>weebly.com</td>\n",
       "      <td>22</td>\n",
       "      <td>0</td>\n",
       "      <td>2</td>\n",
       "      <td>0</td>\n",
       "      <td>0</td>\n",
       "      <td>19</td>\n",
       "      <td>business</td>\n",
       "    </tr>\n",
       "    <tr>\n",
       "      <th>13</th>\n",
       "      <td>squareup.com</td>\n",
       "      <td>90</td>\n",
       "      <td>0</td>\n",
       "      <td>0</td>\n",
       "      <td>0</td>\n",
       "      <td>30</td>\n",
       "      <td>60</td>\n",
       "      <td>business</td>\n",
       "    </tr>\n",
       "    <tr>\n",
       "      <th>15</th>\n",
       "      <td>chegg.com</td>\n",
       "      <td>9</td>\n",
       "      <td>0</td>\n",
       "      <td>0</td>\n",
       "      <td>0</td>\n",
       "      <td>6</td>\n",
       "      <td>3</td>\n",
       "      <td>non-business</td>\n",
       "    </tr>\n",
       "    <tr>\n",
       "      <th>19</th>\n",
       "      <td>godisdope.com</td>\n",
       "      <td>21</td>\n",
       "      <td>0</td>\n",
       "      <td>0</td>\n",
       "      <td>0</td>\n",
       "      <td>0</td>\n",
       "      <td>21</td>\n",
       "      <td>business</td>\n",
       "    </tr>\n",
       "    <tr>\n",
       "      <th>22</th>\n",
       "      <td>stockx.com</td>\n",
       "      <td>7</td>\n",
       "      <td>0</td>\n",
       "      <td>0</td>\n",
       "      <td>0</td>\n",
       "      <td>0</td>\n",
       "      <td>7</td>\n",
       "      <td>non-business</td>\n",
       "    </tr>\n",
       "    <tr>\n",
       "      <th>25</th>\n",
       "      <td>Candy Crush Saga</td>\n",
       "      <td>29</td>\n",
       "      <td>12</td>\n",
       "      <td>16</td>\n",
       "      <td>0</td>\n",
       "      <td>0</td>\n",
       "      <td>0</td>\n",
       "      <td>non-business</td>\n",
       "    </tr>\n",
       "    <tr>\n",
       "      <th>29</th>\n",
       "      <td>customink.com</td>\n",
       "      <td>7</td>\n",
       "      <td>0</td>\n",
       "      <td>0</td>\n",
       "      <td>0</td>\n",
       "      <td>2</td>\n",
       "      <td>3</td>\n",
       "      <td>business</td>\n",
       "    </tr>\n",
       "    <tr>\n",
       "      <th>37</th>\n",
       "      <td>urbanairparks.com</td>\n",
       "      <td>6</td>\n",
       "      <td>0</td>\n",
       "      <td>4</td>\n",
       "      <td>0</td>\n",
       "      <td>0</td>\n",
       "      <td>2</td>\n",
       "      <td>non-business</td>\n",
       "    </tr>\n",
       "    <tr>\n",
       "      <th>48</th>\n",
       "      <td>fool.com</td>\n",
       "      <td>8</td>\n",
       "      <td>0</td>\n",
       "      <td>8</td>\n",
       "      <td>0</td>\n",
       "      <td>0</td>\n",
       "      <td>0</td>\n",
       "      <td>non-business</td>\n",
       "    </tr>\n",
       "    <tr>\n",
       "      <th>78</th>\n",
       "      <td>kent.edu</td>\n",
       "      <td>10</td>\n",
       "      <td>0</td>\n",
       "      <td>0</td>\n",
       "      <td>0</td>\n",
       "      <td>0</td>\n",
       "      <td>10</td>\n",
       "      <td>non-business</td>\n",
       "    </tr>\n",
       "  </tbody>\n",
       "</table>\n",
       "</div>"
      ],
      "text/plain": [
       "                  App  Event Count  Activate App  Custom  Ad Request  \\\n",
       "2            usps.com           34             0       0           0   \n",
       "3       square.online          174             0       0           0   \n",
       "4      uberprints.com           89             0       0           0   \n",
       "5              Amazon            5             0       5           0   \n",
       "6         quizlet.com           12             0       0           0   \n",
       "11         weebly.com           22             0       2           0   \n",
       "13       squareup.com           90             0       0           0   \n",
       "15          chegg.com            9             0       0           0   \n",
       "19      godisdope.com           21             0       0           0   \n",
       "22         stockx.com            7             0       0           0   \n",
       "25   Candy Crush Saga           29            12      16           0   \n",
       "29      customink.com            7             0       0           0   \n",
       "37  urbanairparks.com            6             0       4           0   \n",
       "48           fool.com            8             0       8           0   \n",
       "78           kent.edu           10             0       0           0   \n",
       "\n",
       "    View Content  Page Views Business Related  \n",
       "2              0          34         business  \n",
       "3              0         169         business  \n",
       "4              0          31         business  \n",
       "5              0           0     non-business  \n",
       "6             12           0     non-business  \n",
       "11             0          19         business  \n",
       "13            30          60         business  \n",
       "15             6           3     non-business  \n",
       "19             0          21         business  \n",
       "22             0           7     non-business  \n",
       "25             0           0     non-business  \n",
       "29             2           3         business  \n",
       "37             0           2     non-business  \n",
       "48             0           0     non-business  \n",
       "78             0          10     non-business  "
      ]
     },
     "execution_count": 195,
     "metadata": {},
     "output_type": "execute_result"
    }
   ],
   "source": [
    "bus_sites = ['business', 'business', 'business', 'non-business', 'non-business', 'business', 'business', 'non-business', 'business','non-business', 'non-business', 'business', 'non-business', 'non-business', 'non-business' ]\n",
    "\n",
    "subApps['Business Related'] = bus_sites\n",
    "subApps"
   ]
  },
  {
   "cell_type": "markdown",
   "id": "liberal-cheese",
   "metadata": {},
   "source": [
    "Counting how many apps are business related and how many non-business related:"
   ]
  },
  {
   "cell_type": "code",
   "execution_count": 196,
   "id": "killing-preview",
   "metadata": {
    "scrolled": true
   },
   "outputs": [
    {
     "data": {
      "image/png": "[encoded data removed]",
      "text/plain": [
       "<Figure size 432x288 with 1 Axes>"
      ]
     },
     "metadata": {
      "needs_background": "light"
     },
     "output_type": "display_data"
    }
   ],
   "source": [
    "bins = np.linspace(0, 500, 10)\n",
    "busApp = subApps['Event Count'].loc[subApps['Business Related'] == 'business']\n",
    "nobusApp = subApps['Event Count'].loc[subApps['Business Related'] == 'non-business']\n",
    "plt.hist([busApp, nobusApp], bins, label = ['Business', 'Non-business'])\n",
    "plt.legend(loc = 'upper right')\n",
    "plt.show()"
   ]
  },
  {
   "cell_type": "markdown",
   "id": "loaded-standing",
   "metadata": {},
   "source": [
    "Result => 7 business related apps, 8 Non-business related apps"
   ]
  },
  {
   "cell_type": "code",
   "execution_count": 197,
   "id": "animal-montana",
   "metadata": {},
   "outputs": [
    {
     "data": {
      "text/plain": [
       "2.451850308979232"
      ]
     },
     "execution_count": 197,
     "metadata": {},
     "output_type": "execute_result"
    }
   ],
   "source": [
    "ttest= stats.ttest_ind(subApps['Event Count'].loc[subApps['Business Related'] == 'business'], subApps['Event Count'].loc[subApps['Business Related'] == 'non-business'])\n",
    "ttest.statistic"
   ]
  },
  {
   "cell_type": "code",
   "execution_count": 198,
   "id": "moral-senior",
   "metadata": {
    "scrolled": true
   },
   "outputs": [
    {
     "data": {
      "image/png": "[encoded data removed]",
      "text/plain": [
       "<Figure size 432x288 with 1 Axes>"
      ]
     },
     "metadata": {
      "needs_background": "light"
     },
     "output_type": "display_data"
    }
   ],
   "source": [
    "dF = (len(busApp) - 1) + (len(nobusApp) - 1)\n",
    "#df2 = 100\n",
    "fig, ax1 = plt.subplots(1,1)\n",
    "x1 = np.linspace(stats.t.ppf(0.01, dF), stats.t.ppf(0.99, dF), 100)\n",
    "ax1.plot(x1, stats.t.pdf(x1, dF), 'r-', lw = 5, label = '')\n",
    "#x2 = np.linspace(stats.t.ppf(0.01, df2), stats.t.ppf(0.99, df2), 100)\n",
    "#ax1.plot(x2, stats.t.pdf(x2, df2), 'k-', lw = 5, label = 't df = 100')\n",
    "ax1.axvline(x=ttest.statistic, label = 'test-statistic 2.452')\n",
    "ax1.axvline(x=-ttest.statistic, label = '_nolegend_')\n",
    "ax1.legend(loc = 'best', frameon = False)\n",
    "plt.show()"
   ]
  },
  {
   "cell_type": "markdown",
   "id": "supreme-swimming",
   "metadata": {},
   "source": [
    "There is a 2.9 % chance that business and non-realted business apps match. "
   ]
  },
  {
   "cell_type": "code",
   "execution_count": 199,
   "id": "continental-playing",
   "metadata": {},
   "outputs": [
    {
     "data": {
      "text/plain": [
       "0.02911158189797494"
      ]
     },
     "execution_count": 199,
     "metadata": {},
     "output_type": "execute_result"
    }
   ],
   "source": [
    "ttest.pvalue"
   ]
  },
  {
   "cell_type": "markdown",
   "id": "plastic-english",
   "metadata": {},
   "source": [
    "## 6 Analysis\n",
    "Visual to represent reserach question/hypothesis"
   ]
  },
  {
   "cell_type": "code",
   "execution_count": 200,
   "id": "corporate-opinion",
   "metadata": {
    "scrolled": true
   },
   "outputs": [
    {
     "data": {
      "image/png": "[encoded data removed]",
      "text/plain": [
       "<Figure size 432x288 with 1 Axes>"
      ]
     },
     "metadata": {
      "needs_background": "light"
     },
     "output_type": "display_data"
    }
   ],
   "source": [
    "appbyevent.sort_values('Event Count', ascending = False)\n",
    "allApps = appbyevent[['App', 'Event Count', 'Activate App', 'Custom', 'Ad Request', 'View Content', 'Page Views']].loc[appbyevent['Event Count'] >= 2]\n",
    "allApps\n",
    "\n",
    "busSites = ['non-business','non-business','business','business','business','non-business','non-business','business','business','business','non-business','business','non-business','business','non-business','non-business','business','non-business','non-business','business','business','non-business','non-business','non-business','non-business','non-business','non-business','non-business','non-business','non-business','non-business','business','non-business','non-business','non-business','non-business','non-business','non-business','non-business','non-business','non-business','business','business','non-business','non-business','non-business','non-business','non-business','business','business','non-business','non-business','non-business','non-business','business','business','non-business']\n",
    "\n",
    "allApps['Business Related'] = busSites\n",
    "\n",
    "bins = np.linspace(0, 500, 10)\n",
    "busApp2 = allApps['Event Count'].loc[allApps['Business Related'] == 'business']\n",
    "nobusApp2 = allApps['Event Count'].loc[allApps['Business Related'] == 'non-business']\n",
    "plt.hist([busApp2, nobusApp2], bins, label = ['Business', 'Non-business'])\n",
    "plt.legend(loc = 'upper right')\n",
    "plt.show()"
   ]
  },
  {
   "cell_type": "markdown",
   "id": "visible-rally",
   "metadata": {},
   "source": [
    "This final analysis of my Off Facebook Activity shows activities based on my interaction, with businesses and organizations. That data was organized in descending order based on how many events have occurred with those businesses/organizations. To approach the research question/hypothesis, all of the data was organized by business related or non-business-related apps, to determine if the event corresponds to my business interests. "
   ]
  },
  {
   "cell_type": "markdown",
   "id": "tired-notebook",
   "metadata": {},
   "source": [
    "### 6.1 Limitations\n",
    "Although there are more non-related businesses apps than business-related this could be due to:\n",
    "1. Not all the apps I interacted with shared their data\n",
    "2. Not all my electronic devices were not ‘tracked’ by Facebook or the business/organizations\n",
    "\n",
    "It is important to note that the device this data was received from has not been identified."
   ]
  },
  {
   "cell_type": "markdown",
   "id": "baking-station",
   "metadata": {},
   "source": [
    "### 6.2 Conclusion\n",
    "Based on the data it has been proven that my Off Facebook Activity does not correspond to my business interests. The data showed that there are more non-business-related apps than business-related apps. Out of all the apps, there are approximately 40 non-business-related apps and only 18 business-related apps. This shows that my Off Facebook Activity is more related to my non-business-related interactions. This could mean that I spend more recreational time than business-focused time, but it is important to take the limitations mentioned in “6.1 Limitations”."
   ]
  }
 ],
 "metadata": {
  "kernelspec": {
   "display_name": "Python 3",
   "language": "python",
   "name": "python3"
  },
  "language_info": {
   "codemirror_mode": {
    "name": "ipython",
    "version": 3
   },
   "file_extension": ".py",
   "mimetype": "text/x-python",
   "name": "python",
   "nbconvert_exporter": "python",
   "pygments_lexer": "ipython3",
   "version": "3.9.1"
  }
 },
 "nbformat": 4,
 "nbformat_minor": 5
}
